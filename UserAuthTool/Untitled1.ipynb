{
 "cells": [
  {
   "cell_type": "code",
   "execution_count": 1,
   "id": "14201919",
   "metadata": {},
   "outputs": [],
   "source": [
    "import numpy as np\n",
    "import pandas as pd\n",
    "from matplotlib import pyplot as plt\n",
    "from matplotlib.colors import ListedColormap\n",
    "from sklearn.model_selection import train_test_split\n",
    "from sklearn.neural_network import MLPClassifier\n",
    "from sklearn import metrics\n",
    "from sklearn.preprocessing import StandardScaler\n",
    "from sklearn.metrics import classification_report"
   ]
  },
  {
   "cell_type": "code",
   "execution_count": 4,
   "id": "e8c18360",
   "metadata": {},
   "outputs": [],
   "source": [
    "# load the data\n",
    "data = pd.read_csv(\"C:\\\\Users\\\\valer\\\\UserAuthTool\\\\passworddata.csv\", header = 0)\n",
    "# reset the index\n",
    "data = data.reset_index()\n",
    "# get unique IDs from 'subject' field\n",
    "unisub = list(data['subject'].unique())\n",
    "# get sequential numeric IDs \n",
    "mlist = [int(x) for x in range(len(unisub))]\n",
    "# match numeric IDs to the subject field \n",
    "newvalue = dict(zip(unisub, mlist))\n",
    "data['subject'] = data['subject'].map(newvalue)"
   ]
  },
  {
   "cell_type": "code",
   "execution_count": 5,
   "id": "5a467a06",
   "metadata": {},
   "outputs": [],
   "source": [
    "# Split the dataset using an 80:20 ratio\n",
    "train, test = train_test_split(data, test_size = 0.2, random_state=42)\n",
    "# Extract the features from the dataset\n",
    "features = list(data.columns[2:])\n",
    "# Prepare the training data\n",
    "X = train[features]\n",
    "y = train['subject']\n",
    "# Prepare the test data\n",
    "X_test = test[features]\n",
    "y_test = test['subject']"
   ]
  },
  {
   "cell_type": "code",
   "execution_count": 6,
   "id": "04f4f191",
   "metadata": {},
   "outputs": [
    {
     "data": {
      "text/plain": [
       "array([[ 0.65629302,  0.52267595,  1.75794114, ..., -0.21079328,\n",
       "        -0.50536119,  1.8930323 ],\n",
       "       [-0.21580746,  0.87016701, -0.09628472, ..., -0.36634048,\n",
       "        -0.3541073 , -0.3925109 ],\n",
       "       [ 0.65629302, -0.3808008 , -0.88272055, ..., -0.60100994,\n",
       "        -0.56104016, -0.58632496],\n",
       "       ...,\n",
       "       [ 0.22024278, -0.86728828,  0.18167967, ..., -0.33307316,\n",
       "        -0.23485785,  0.30960797],\n",
       "       [-0.21580746, -0.03330974, -0.33018158, ...,  1.44088411,\n",
       "         1.4837371 , -0.67408982],\n",
       "       [ 1.52839349, -1.28427755, -0.04882738, ..., -0.51469473,\n",
       "        -0.51939054, -0.28646169]])"
      ]
     },
     "execution_count": 6,
     "metadata": {},
     "output_type": "execute_result"
    }
   ],
   "source": [
    "# Preprocess the data\n",
    "scaler = StandardScaler()\n",
    "# Fit the scaler on the training data\n",
    "scaler.fit(X)\n",
    "# Transform the training and test data using the scaler\n",
    "scaler.transform(X)\n",
    "scaler.transform(X_test)"
   ]
  },
  {
   "cell_type": "code",
   "execution_count": 7,
   "id": "0445adad",
   "metadata": {},
   "outputs": [],
   "source": [
    "# Create a multilayer perceptron classifier \n",
    "net = MLPClassifier(random_state=42,hidden_layer_sizes=(84, ),max_iter=600,activation= 'relu', learning_rate= 'invscaling', solver='adam')"
   ]
  },
  {
   "cell_type": "code",
   "execution_count": 10,
   "id": "a0cc4fcc",
   "metadata": {},
   "outputs": [
    {
     "name": "stderr",
     "output_type": "stream",
     "text": [
      "C:\\Users\\valer\\anaconda3\\lib\\site-packages\\sklearn\\neural_network\\_multilayer_perceptron.py:692: ConvergenceWarning: Stochastic Optimizer: Maximum iterations (600) reached and the optimization hasn't converged yet.\n",
      "  warnings.warn(\n"
     ]
    },
    {
     "data": {
      "text/plain": [
       "MLPClassifier(hidden_layer_sizes=(84,), learning_rate='invscaling',\n",
       "              max_iter=600, random_state=42)"
      ]
     },
     "execution_count": 10,
     "metadata": {},
     "output_type": "execute_result"
    }
   ],
   "source": [
    "net.fit(X,y)"
   ]
  },
  {
   "cell_type": "code",
   "execution_count": 11,
   "id": "e376b5d2",
   "metadata": {},
   "outputs": [],
   "source": [
    "# predict the output using the test data on the learned model\n",
    "predicted_output = net.predict(X_test)"
   ]
  },
  {
   "cell_type": "code",
   "execution_count": 12,
   "id": "25d96ee7",
   "metadata": {},
   "outputs": [
    {
     "name": "stdout",
     "output_type": "stream",
     "text": [
      "Model accuracy: 0.9259803921568628\n"
     ]
    }
   ],
   "source": [
    "# Calculate the model accuracy\n",
    "model_accuracy = metrics.accuracy_score(y_test, predicted_output)\n",
    "print('Model accuracy:',model_accuracy)"
   ]
  },
  {
   "cell_type": "code",
   "execution_count": 15,
   "id": "f10838c2",
   "metadata": {},
   "outputs": [],
   "source": [
    "import joblib"
   ]
  },
  {
   "cell_type": "code",
   "execution_count": 18,
   "id": "8154a476",
   "metadata": {},
   "outputs": [
    {
     "data": {
      "text/plain": [
       "['model_keystroke.pkl']"
      ]
     },
     "execution_count": 18,
     "metadata": {},
     "output_type": "execute_result"
    }
   ],
   "source": [
    "# Save the model to a file\n",
    "joblib.dump(net, 'model_keystroke.pkl')"
   ]
  },
  {
   "cell_type": "code",
   "execution_count": null,
   "id": "343a92ea",
   "metadata": {},
   "outputs": [],
   "source": []
  }
 ],
 "metadata": {
  "kernelspec": {
   "display_name": "Python 3 (ipykernel)",
   "language": "python",
   "name": "python3"
  },
  "language_info": {
   "codemirror_mode": {
    "name": "ipython",
    "version": 3
   },
   "file_extension": ".py",
   "mimetype": "text/x-python",
   "name": "python",
   "nbconvert_exporter": "python",
   "pygments_lexer": "ipython3",
   "version": "3.9.13"
  }
 },
 "nbformat": 4,
 "nbformat_minor": 5
}
